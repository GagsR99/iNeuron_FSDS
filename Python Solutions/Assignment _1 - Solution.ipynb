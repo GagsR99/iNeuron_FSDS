{
 "cells": [
  {
   "cell_type": "markdown",
   "id": "b8cda100",
   "metadata": {},
   "source": [
    "1. Write a Python program to print \"Hello Python\"?"
   ]
  },
  {
   "cell_type": "code",
   "execution_count": 5,
   "id": "0a8aeb2d",
   "metadata": {},
   "outputs": [],
   "source": [
    "def hello(a):\n",
    "    return a"
   ]
  },
  {
   "cell_type": "code",
   "execution_count": 7,
   "id": "e732588f",
   "metadata": {},
   "outputs": [
    {
     "data": {
      "text/plain": [
       "'Hello Python'"
      ]
     },
     "execution_count": 7,
     "metadata": {},
     "output_type": "execute_result"
    }
   ],
   "source": [
    "hello(\"Hello Python\")"
   ]
  },
  {
   "cell_type": "markdown",
   "id": "d45a4d9b",
   "metadata": {},
   "source": [
    "2. Write a Python program to do arithmetical operations addition and division.?"
   ]
  },
  {
   "cell_type": "code",
   "execution_count": 35,
   "id": "766fe42e",
   "metadata": {},
   "outputs": [],
   "source": [
    "def arithmetic(a,b):\n",
    "    add = a+b\n",
    "    div = a//b\n",
    "    result = 'Addition: '+ str(add) + ' Division: '+ str(div)\n",
    "    return result"
   ]
  },
  {
   "cell_type": "code",
   "execution_count": 36,
   "id": "cf5909a6",
   "metadata": {},
   "outputs": [
    {
     "data": {
      "text/plain": [
       "'Addition: 15 Division: 2'"
      ]
     },
     "execution_count": 36,
     "metadata": {},
     "output_type": "execute_result"
    }
   ],
   "source": [
    "arithmetic(10,5)"
   ]
  },
  {
   "cell_type": "markdown",
   "id": "e193ef4a",
   "metadata": {},
   "source": [
    "3. Write a Python program to find the area of a triangle?"
   ]
  },
  {
   "cell_type": "code",
   "execution_count": 14,
   "id": "43eb36f6",
   "metadata": {},
   "outputs": [],
   "source": [
    "def triangle(breadth, height):\n",
    "    area = (breadth * height)//2\n",
    "    result = \"The area of triangle is \"+ str(area) +\" sq.m (or) sq.cm\"\n",
    "    return result"
   ]
  },
  {
   "cell_type": "code",
   "execution_count": 15,
   "id": "ecb51725",
   "metadata": {},
   "outputs": [
    {
     "data": {
      "text/plain": [
       "'The area of triangle is 10 sq.m (or) sq.cm'"
      ]
     },
     "execution_count": 15,
     "metadata": {},
     "output_type": "execute_result"
    }
   ],
   "source": [
    "triangle(4,5)"
   ]
  },
  {
   "cell_type": "markdown",
   "id": "83741011",
   "metadata": {},
   "source": [
    "4. Write a Python program to swap two variables?"
   ]
  },
  {
   "cell_type": "code",
   "execution_count": 38,
   "id": "3a285abc",
   "metadata": {},
   "outputs": [],
   "source": [
    "def swap(a,b):\n",
    "    a,b = b,a\n",
    "    return a,b"
   ]
  },
  {
   "cell_type": "code",
   "execution_count": 39,
   "id": "1b0ebd23",
   "metadata": {},
   "outputs": [
    {
     "data": {
      "text/plain": [
       "(3, 2)"
      ]
     },
     "execution_count": 39,
     "metadata": {},
     "output_type": "execute_result"
    }
   ],
   "source": [
    "swap(2,3)"
   ]
  },
  {
   "cell_type": "markdown",
   "id": "7d8e41be",
   "metadata": {},
   "source": [
    "5. Write a Python program to generate a random number?"
   ]
  },
  {
   "cell_type": "code",
   "execution_count": 104,
   "id": "26fd80a6",
   "metadata": {},
   "outputs": [],
   "source": [
    "import random\n",
    "\n",
    "def random_num(a,b):\n",
    "    num = random.randint(a,b)\n",
    "    return num"
   ]
  },
  {
   "cell_type": "code",
   "execution_count": 145,
   "id": "d24be20c",
   "metadata": {},
   "outputs": [
    {
     "data": {
      "text/plain": [
       "476"
      ]
     },
     "execution_count": 145,
     "metadata": {},
     "output_type": "execute_result"
    }
   ],
   "source": [
    "random_num(0,1000)"
   ]
  }
 ],
 "metadata": {
  "kernelspec": {
   "display_name": "Python 3 (ipykernel)",
   "language": "python",
   "name": "python3"
  },
  "language_info": {
   "codemirror_mode": {
    "name": "ipython",
    "version": 3
   },
   "file_extension": ".py",
   "mimetype": "text/x-python",
   "name": "python",
   "nbconvert_exporter": "python",
   "pygments_lexer": "ipython3",
   "version": "3.9.7"
  }
 },
 "nbformat": 4,
 "nbformat_minor": 5
}
